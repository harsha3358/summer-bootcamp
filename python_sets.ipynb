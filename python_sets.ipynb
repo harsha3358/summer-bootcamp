{
 "cells": [
  {
   "cell_type": "markdown",
   "id": "76bd9fcd-0696-4430-bc2d-3c6bb23ce966",
   "metadata": {},
   "source": [
    "# SETS"
   ]
  },
  {
   "cell_type": "markdown",
   "id": "e24f8664-07f3-4e64-9efb-424c851867b0",
   "metadata": {},
   "source": [
    "# Creating Sets in Python\n"
   ]
  },
  {
   "cell_type": "markdown",
   "id": "db787e63-fee6-4a7f-b232-4f35b67d1fca",
   "metadata": {},
   "source": [
    "# Using curly braces\n"
   ]
  },
  {
   "cell_type": "code",
   "execution_count": null,
   "id": "a4f8b629-8e5a-4e96-8796-af1047469976",
   "metadata": {},
   "outputs": [],
   "source": [
    "fruit_set = {\"apple\", \"banana\", \"cherry\", \"date\", \"elderberry\"}\n"
   ]
  },
  {
   "cell_type": "markdown",
   "id": "8227b41f-e901-49f7-bcd7-c1cbed7b6b2c",
   "metadata": {},
   "source": [
    "# Using set() constructor\n"
   ]
  },
  {
   "cell_type": "code",
   "execution_count": null,
   "id": "9c1e7cae-bf8e-4822-898e-f0fc826ac19a",
   "metadata": {},
   "outputs": [],
   "source": [
    "alphabet_set = set([\"d\", \"e\", \"f\", \"g\", \"h\"])\n"
   ]
  },
  {
   "cell_type": "markdown",
   "id": "ea2b5e3b-2b6e-4f38-8902-f80294b1c4c0",
   "metadata": {},
   "source": [
    "# Print sets\n"
   ]
  },
  {
   "cell_type": "code",
   "execution_count": null,
   "id": "4e3233ce-e285-4271-a650-70c3bb94c382",
   "metadata": {},
   "outputs": [],
   "source": [
    "print(\"Set created using '{}' curly brackets:\", fruit_set)\n",
    "print(\"Set created using set constructor:\", alphabet_set)\n"
   ]
  },
  {
   "cell_type": "markdown",
   "id": "90d5612b-c32d-44c4-8e7a-5ec057fb1f2b",
   "metadata": {},
   "source": [
    "# Set Operations in Python\n"
   ]
  },
  {
   "cell_type": "markdown",
   "id": "8d4538b4-d4a5-4797-96cc-ba25aa4262d0",
   "metadata": {},
   "source": [
    "# Union\n"
   ]
  },
  {
   "cell_type": "code",
   "execution_count": null,
   "id": "2502c0fc-adae-4739-9d4b-6f04cf3ce320",
   "metadata": {},
   "outputs": [],
   "source": [
    "set1 = {\"apple\", \"banana\", \"cherry\"}\n",
    "set2 = {\"cherry\", \"date\", \"elderberry\"}\n",
    "union_set = set1 | set2\n",
    "print(\"Union:\", union_set)\n"
   ]
  },
  {
   "cell_type": "markdown",
   "id": "0e0b1a0d-dd29-4c15-b8ab-06b50d7838a4",
   "metadata": {},
   "source": [
    " # Example with shopping lists\n"
   ]
  },
  {
   "cell_type": "code",
   "execution_count": null,
   "id": "f3efa07a-c3c5-454b-bc37-b39d023af912",
   "metadata": {},
   "outputs": [],
   "source": [
    "fruit_list = {\"apple\", \"banana\", \"cherry\"}\n",
    "vegetable_list = {\"carrot\", \"broccoli\", \"apple\"}\n",
    "shopping_list = fruit_list | vegetable_list\n",
    "print(\"Shopping list:\", shopping_list)"
   ]
  },
  {
   "cell_type": "markdown",
   "id": "9a183650-9bda-4c51-82bf-8b8f910d2d24",
   "metadata": {},
   "source": [
    " # Intersection\n"
   ]
  },
  {
   "cell_type": "code",
   "execution_count": null,
   "id": "b0cf8bc2-3f92-41f6-8d5a-3839a87267b5",
   "metadata": {},
   "outputs": [],
   "source": [
    "intersection_set = set1 & set2\n",
    "print(\"Intersection:\", intersection_set)"
   ]
  },
  {
   "cell_type": "markdown",
   "id": "31988e8f-c77f-4edb-9231-9b88c796ab4f",
   "metadata": {},
   "source": [
    "# Example with hobby groups\n"
   ]
  },
  {
   "cell_type": "code",
   "execution_count": null,
   "id": "6f738597-600e-47ec-8bdb-f697588bbf7f",
   "metadata": {},
   "outputs": [],
   "source": [
    "painting_group = {\"painting\", \"drawing\", \"sculpture\"}\n",
    "photography_group = {\"photography\", \"editing\", \"painting\"}\n",
    "common_interests = painting_group & photography_group\n",
    "print(\"Common interests of both the group:\", common_interests)\n"
   ]
  },
  {
   "cell_type": "markdown",
   "id": "57b58500-094a-4436-8655-3b12ba984921",
   "metadata": {},
   "source": [
    " # Difference\n"
   ]
  },
  {
   "cell_type": "code",
   "execution_count": null,
   "id": "cc358eb1-42f4-4926-9813-daca6aa17557",
   "metadata": {},
   "outputs": [],
   "source": [
    "difference_set = set1 - set2\n",
    "print(\"Difference:\", difference_set)"
   ]
  },
  {
   "cell_type": "markdown",
   "id": "c0a221fe-97f1-4b3a-9e2c-323d9dcded0c",
   "metadata": {},
   "source": [
    "# Example with books\n"
   ]
  },
  {
   "cell_type": "code",
   "execution_count": null,
   "id": "f3edb6e9-26ff-46b0-9ed7-8f95ec0a0b44",
   "metadata": {},
   "outputs": [],
   "source": [
    "recommended_books = {\"The Catcher in the Rye\", \"1984\", \"To Kill a Mockingbird\", \"Harry Potter\"}\n",
    "read_books = {\"1984\", \"Harry Potter\"}\n",
    "unread_books = recommended_books - read_books\n",
    "print(\"Books that already read:\", unread_books)"
   ]
  },
  {
   "cell_type": "markdown",
   "id": "b3df1428-ecd3-4059-8f13-288677976af8",
   "metadata": {},
   "source": [
    "# Symmetric Difference\n"
   ]
  },
  {
   "cell_type": "code",
   "execution_count": null,
   "id": "c37b14db-04b8-4f49-a375-fa79358ff8c8",
   "metadata": {},
   "outputs": [],
   "source": [
    "symmetric_difference_set = set1 ^ set2\n",
    "print(\"Symmetric Difference:\", symmetric_difference_set)"
   ]
  },
  {
   "cell_type": "markdown",
   "id": "6edf518b-4323-46e3-a723-f47d488d1a28",
   "metadata": {},
   "source": [
    "# Example with restaurant menus\n"
   ]
  },
  {
   "cell_type": "code",
   "execution_count": null,
   "id": "0d8142ea-06d2-4c32-a877-51a99d8f10b3",
   "metadata": {},
   "outputs": [],
   "source": [
    "restaurant1_menu = {\"pizza\", \"pasta\", \"salad\", \"garlic bread\"}\n",
    "restaurant2_menu = {\"pasta\", \"burger\", \"fries\", \"ice cream\"}\n",
    "unique_choices = restaurant1_menu ^ restaurant2_menu\n",
    "print(\"Unique Dishes:\", unique_choices)"
   ]
  },
  {
   "cell_type": "markdown",
   "id": "b03bc317-98b2-4f96-9f64-e26565fffbc1",
   "metadata": {},
   "source": [
    "# Set Methods in Python\n"
   ]
  },
  {
   "cell_type": "markdown",
   "id": "05fb1cee-cee4-414d-836b-d22d0c18994b",
   "metadata": {},
   "source": [
    "# add(element)\n"
   ]
  },
  {
   "cell_type": "code",
   "execution_count": null,
   "id": "38e41e2a-f00b-4f94-8ffb-a87f730420dc",
   "metadata": {},
   "outputs": [],
   "source": [
    "fruit_set.add(\"fig\")\n",
    "print(\"After add():\", fruit_set)"
   ]
  },
  {
   "cell_type": "markdown",
   "id": "78dfdfc3-abf4-4030-88b2-663fa16da77c",
   "metadata": {},
   "source": [
    "# remove(element)\n"
   ]
  },
  {
   "cell_type": "code",
   "execution_count": null,
   "id": "bbeff6d0-7bcc-4013-b923-007fd9ddb3eb",
   "metadata": {},
   "outputs": [],
   "source": [
    "fruit_set.remove(\"banana\")\n",
    "print(\"After remove():\", fruit_set)"
   ]
  },
  {
   "cell_type": "markdown",
   "id": "8b75d57e-89a3-4443-9256-7a195a4d344d",
   "metadata": {},
   "source": [
    "# discard(element)\n"
   ]
  },
  {
   "cell_type": "code",
   "execution_count": null,
   "id": "4215bfda-34cd-4fc5-b981-02de8e7fba3f",
   "metadata": {},
   "outputs": [],
   "source": [
    "fruit_set.discard(\"apple\")\n",
    "print(\"After discard():\", fruit_set)"
   ]
  },
  {
   "cell_type": "markdown",
   "id": "20552bac-3f5a-4a8e-8b80-107884263f79",
   "metadata": {},
   "source": [
    "# pop()\n"
   ]
  },
  {
   "cell_type": "code",
   "execution_count": null,
   "id": "d29565bb-bd5d-42f3-9bc8-3868c82c7ea3",
   "metadata": {},
   "outputs": [],
   "source": [
    "removed_element = fruit_set.pop()\n",
    "print(\"After pop():\", removed_element)\n"
   ]
  },
  {
   "cell_type": "markdown",
   "id": "d0b9c04d-fdd1-4727-81e1-a74b2112a694",
   "metadata": {},
   "source": [
    "# clear()"
   ]
  },
  {
   "cell_type": "code",
   "execution_count": null,
   "id": "bf2a3534-03bb-4136-b6b8-f800bfec07fb",
   "metadata": {},
   "outputs": [],
   "source": [
    "fruit_set.clear()\n",
    "print(\"After clear():\", fruit_set)"
   ]
  },
  {
   "cell_type": "markdown",
   "id": "7284dfd5-5719-4b21-8765-34c350c1e12c",
   "metadata": {},
   "source": [
    "# copy()\n"
   ]
  },
  {
   "cell_type": "code",
   "execution_count": null,
   "id": "9e8c047d-f4a9-4bf8-a629-f61151a50eaf",
   "metadata": {},
   "outputs": [],
   "source": [
    "fruit_set = {\"apple\", \"banana\", \"cherry\"}\n",
    "copied_set = fruit_set.copy()\n",
    "print(\"After copy():\", copied_set)"
   ]
  },
  {
   "cell_type": "markdown",
   "id": "796165a6-e282-4712-8499-9c65c6cbe206",
   "metadata": {},
   "source": [
    "# update(iterable)\n"
   ]
  },
  {
   "cell_type": "code",
   "execution_count": null,
   "id": "e0604b23-0011-4d89-a6e4-21a5ec5a00a0",
   "metadata": {},
   "outputs": [],
   "source": [
    "fruit_set.update([\"date\", \"elderberry\"])\n",
    "print(\"After update():\", fruit_set)"
   ]
  },
  {
   "cell_type": "markdown",
   "id": "7a0d5ba1-2d52-4426-b577-5dfc8012ff9b",
   "metadata": {},
   "source": [
    "# issubset(other_set)\n"
   ]
  },
  {
   "cell_type": "code",
   "execution_count": null,
   "id": "1fbdee58-8e93-4239-8627-74fa90966a56",
   "metadata": {},
   "outputs": [],
   "source": [
    "small_set = {\"apple\", \"banana\"}\n",
    "big_set = {\"apple\", \"banana\", \"cherry\", \"date\"}\n",
    "print(small_set.issubset(big_set))"
   ]
  },
  {
   "cell_type": "markdown",
   "id": "7ee8e4e0-04dc-4030-820c-d70a45496762",
   "metadata": {},
   "source": [
    "# issuperset(other_set)\n"
   ]
  },
  {
   "cell_type": "code",
   "execution_count": null,
   "id": "53298b9e-790d-4fb6-9abc-b93de32368db",
   "metadata": {},
   "outputs": [],
   "source": [
    "print(big_set.issuperset(small_set))\n"
   ]
  },
  {
   "cell_type": "markdown",
   "id": "d8af13b3-bffb-425c-8b3f-8efe5d85f6db",
   "metadata": {},
   "source": [
    "# isdisjoint(other_set)\n"
   ]
  },
  {
   "cell_type": "code",
   "execution_count": null,
   "id": "9cce9d2a-5cc0-4fd5-8dcb-99b338ccea70",
   "metadata": {},
   "outputs": [],
   "source": [
    "set3 = {\"fig\", \"grape\"}\n",
    "print(fruit_set.isdisjoint(set3))"
   ]
  },
  {
   "cell_type": "markdown",
   "id": "fb26e147-227d-4185-98b8-9bc8f11d9f0d",
   "metadata": {},
   "source": [
    "# Checking Membership with the 'in' Keyword\n"
   ]
  },
  {
   "cell_type": "code",
   "execution_count": null,
   "id": "b112c1e3-2fe4-4834-8a34-31f6d0491389",
   "metadata": {},
   "outputs": [],
   "source": [
    "print(\"apple\" in fruit_set)\n",
    "print(\"fig\" in fruit_set)"
   ]
  },
  {
   "cell_type": "markdown",
   "id": "275b9ea1-7f1b-4c1c-a2b6-24e95ea9193f",
   "metadata": {},
   "source": [
    "# Set Comprehension in Python\n"
   ]
  },
  {
   "cell_type": "markdown",
   "id": "5d3955f5-2272-48a0-ba36-78b1c256981e",
   "metadata": {},
   "source": [
    "# Creating a set of squares of numbers from 1 to 5\n"
   ]
  },
  {
   "cell_type": "code",
   "execution_count": null,
   "id": "5aefebb0-9b36-49bf-bc3e-f95b38e7dd67",
   "metadata": {},
   "outputs": [],
   "source": [
    "squares = {x * x for x in range(1, 6)}\n",
    "print(squares)"
   ]
  },
  {
   "cell_type": "markdown",
   "id": "b66aaf3d-3ca1-4d4d-8d70-addeb623a6c1",
   "metadata": {},
   "source": [
    "# Creating a set of even squares of numbers from 1 to 5\n"
   ]
  },
  {
   "cell_type": "code",
   "execution_count": null,
   "id": "0d17c9c6-cf7f-4d2c-8da1-913c8872ec1f",
   "metadata": {},
   "outputs": [],
   "source": [
    "even_squares = {x * x for x in range(1, 6) if x % 2 == 0}\n",
    "print(even_squares)\n"
   ]
  },
  {
   "cell_type": "markdown",
   "id": "b4d5029f-0b28-482e-b7e3-8369bb488847",
   "metadata": {},
   "source": [
    "# Example with user interests\n"
   ]
  },
  {
   "cell_type": "code",
   "execution_count": null,
   "id": "33b5eb5b-07ba-4dd5-83d8-803714f7cb10",
   "metadata": {},
   "outputs": [],
   "source": [
    "user_interests = {\n",
    "    'Alice': {'sports', 'music', 'reading'},\n",
    "    'Bob': {'movies', 'music', 'gaming'},\n",
    "    'Charlie': {'sports', 'music', 'cooking'},\n",
    "    'David': {'sports', 'traveling', 'photography'},\n",
    "    'Emma': {'music', 'reading', 'cooking'}\n",
    "}\n",
    "\n",
    "unique_interests = {interest for interests in user_interests.values() for interest in interests}\n",
    "print(\"Unique Interests:\", unique_interests)\n"
   ]
  },
  {
   "cell_type": "markdown",
   "id": "bc500973-fb61-4529-ac55-dccbedbb5a49",
   "metadata": {},
   "source": [
    "# Advanced Set Operations in Python\n"
   ]
  },
  {
   "cell_type": "markdown",
   "id": "fed008ff-da33-413b-95ff-fc2c600b788f",
   "metadata": {},
   "source": [
    "# Cartesian Product"
   ]
  },
  {
   "cell_type": "code",
   "execution_count": null,
   "id": "1fa62d4c-a569-41e8-b0f5-bf0a582ad1cf",
   "metadata": {},
   "outputs": [],
   "source": [
    "set4 = {\"A\", \"B\"}\n",
    "set5 = {\"1\", \"2\", \"3\"}\n",
    "cartesian_product = {(x, y) for x in set4 for y in set5}\n",
    "print(cartesian_product)"
   ]
  },
  {
   "cell_type": "markdown",
   "id": "0e50c7cb-093e-421e-8d80-fcc04e09fe8a",
   "metadata": {},
   "source": [
    "# Power Set\n"
   ]
  },
  {
   "cell_type": "code",
   "execution_count": null,
   "id": "c4a08310-f7be-41ff-b528-49f56605b747",
   "metadata": {},
   "outputs": [],
   "source": [
    "def power_set(s):\n",
    "    if len(s) == 0:\n",
    "        return {frozenset()}\n",
    "    element = s.pop()\n",
    "    subsets = power_set(s)\n",
    "    return subsets.union({subset.union({element}) for subset in subsets})\n",
    "\n",
    "alphabet_set = {\"A\", \"B\", \"C\"}\n",
    "print(power_set(alphabet_set))"
   ]
  },
  {
   "cell_type": "markdown",
   "id": "a7639eb6-ceae-482e-9de4-a2f829873cd2",
   "metadata": {},
   "source": [
    "# Frozen Set\n"
   ]
  },
  {
   "cell_type": "code",
   "execution_count": null,
   "id": "2daf6396-daa0-4e4f-bfc0-9e74e2af77f0",
   "metadata": {},
   "outputs": [],
   "source": [
    "alphabet_frozen_set = frozenset(alphabet_set)\n",
    "print(alphabet_frozen_set)"
   ]
  },
  {
   "cell_type": "markdown",
   "id": "d805e859-8316-4b58-a685-a8d8f3ffa862",
   "metadata": {},
   "source": [
    "# Intersection\n"
   ]
  },
  {
   "cell_type": "code",
   "execution_count": null,
   "id": "f8763bfd-860f-4939-86b4-548920a9e36a",
   "metadata": {},
   "outputs": [],
   "source": [
    "intersection = ba.intersection(set6, set7)\n",
    "print(intersection)"
   ]
  },
  {
   "cell_type": "markdown",
   "id": "8831d637-b78d-464b-ad00-71bdca5dbcfa",
   "metadata": {},
   "source": [
    "# Union\n"
   ]
  },
  {
   "cell_type": "code",
   "execution_count": null,
   "id": "b8eccacb-7547-4bfc-b531-c0a26b955b9c",
   "metadata": {},
   "outputs": [],
   "source": [
    "union = ba.union(set6, set7)\n",
    "print(union)"
   ]
  },
  {
   "cell_type": "markdown",
   "id": "9c6be763-4af3-40eb-a39f-c61b5c3b4802",
   "metadata": {},
   "source": [
    "# Complement of set6 in set7\n"
   ]
  },
  {
   "cell_type": "code",
   "execution_count": null,
   "id": "326af2d4-7c09-483c-b306-7d9583d32b5c",
   "metadata": {},
   "outputs": [],
   "source": [
    "complement = ba.complement(set6, set7)\n",
    "print(complement)"
   ]
  }
 ],
 "metadata": {
  "kernelspec": {
   "display_name": "Python 3 (ipykernel)",
   "language": "python",
   "name": "python3"
  },
  "language_info": {
   "codemirror_mode": {
    "name": "ipython",
    "version": 3
   },
   "file_extension": ".py",
   "mimetype": "text/x-python",
   "name": "python",
   "nbconvert_exporter": "python",
   "pygments_lexer": "ipython3",
   "version": "3.11.7"
  }
 },
 "nbformat": 4,
 "nbformat_minor": 5
}
