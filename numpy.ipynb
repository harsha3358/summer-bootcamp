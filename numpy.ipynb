import numpy as np

# Creating arrays
np1 = np.array([0,1,2,3,4,5,6,7,8,9])
print(np1, np1.shape)

np2 = np.arange(10)
np3 = np.arange(0, 10, 3)
np4 = np.zeros(10)
np5 = np.zeros((2, 10))
np6 = np.full(10, 6)
np7 = np.full((2, 10), 7)

# Converting list to numpy array
l = [1, 2, 3, 4, 5]
np8 = np.array(l)

# Slicing arrays
s1 = np.array([1, 2, 3, 4, 5, 6, 7, 8, 9])
print(s1[1:5], s1[3:], s1[-3:-1], s1[1:5:2])

# 2D array slicing
s2 = np.array([[1, 2, 3, 4, 5], [6, 7, 8, 9, 10]])
print(s2[1, 2], s2[0:1, 1:3], s2[0:2, 1:3])

# Universal functions
u1 = np.array([0, -1, 2, -3, 4, 5, 6, 7, -8, -9])
print(u1)
print(np.sqrt(u1), np.absolute(u1), np.exp(u1), np.max(u1), np.sign(u1), np.sin(u1), np.log(u1, where=u1 > 0))

# Copy vs View
np1 = np.array([0, 1, 2, 3, 4, 5])
np2 = np1.view()
print(f'original np1: {np1}')
print(f'Original np2: {np2}')
np1[0] = 41
print(f'changed np1: {np1}')
print(f'Original np2: {np2}')

np3 = np1.copy()
print(f'original np1: {np1}')
print(f'Original np3: {np3}')
np1[1] = 42
print(f'changed np1: {np1}')
print(f'Original np3: {np3}')

# Shape and reshape
a1 = np.array([1, 2, 3, 4, 5, 6, 7, 8, 9, 10, 11, 12])
print(a1.shape)

a2 = np.array([[1, 2, 3, 4, 5], [6, 7, 8, 9, 10]])
print(a2.shape)

a3 = a1.reshape(3, 4)
print(a3)

a4 = a1.reshape(2, 3, 2)
print(a4)

a5 = a2.reshape(-1)
print(a5)

# Iterating over arrays
np1 = np.array([1, 2, 3, 4, 5, 6, 7, 8, 9, 10])
for x in np1:
    print(x)

np2 = np.array([[1, 2, 3, 4, 5, 6], [7, 8, 9, 10, 11, 12]])
for x in np2:
    for y in x:
        print(y)

# 3D array and iterating with np.nditer
np3 = np.array([[[1, 2, 3], [4, 5, 6]], [[7, 8, 9], [10, 11, 12]]])
print(np3)
for x in np.nditer(np3):
    print(x)
