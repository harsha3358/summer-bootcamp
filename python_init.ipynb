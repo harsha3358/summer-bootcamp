{
 "cells": [
  {
   "cell_type": "markdown",
   "id": "71a3baff-c6d8-42bb-b729-c45755819716",
   "metadata": {},
   "source": [
    "# Inheritance in Python\n"
   ]
  },
  {
   "cell_type": "markdown",
   "id": "916924fa-4629-44df-a5cb-e06fa7bb9e1f",
   "metadata": {},
   "source": [
    "\n",
    "# 1. Introduction\n",
    "\n",
    "Inheritance provides code reusability by using an existing class to create a new class.\n"
   ]
  },
  {
   "cell_type": "markdown",
   "id": "70592923-9558-47a0-b67d-ee9ff38d4bd8",
   "metadata": {},
   "source": [
    "# 2. Syntax\n"
   ]
  },
  {
   "cell_type": "code",
   "execution_count": null,
   "id": "20f46eb9-3351-4086-8976-a7a91ae37ce3",
   "metadata": {},
   "outputs": [],
   "source": [
    "class ParentClass:\n",
    "    def parent_method(self):\n",
    "        print(\"This is parent method\")\n",
    "\n",
    "class ChildClass(ParentClass):\n",
    "    def child_method(self):\n",
    "        print(\"This is child method\")"
   ]
  },
  {
   "cell_type": "markdown",
   "id": "4ba58f1a-9a27-4905-8e39-a0d1f3486493",
   "metadata": {},
   "source": [
    "# 3. Properties of inheritance\n",
    "Code Reusability: Allows reuse of code by inheriting attributes and methods.\n",
    "\n",
    "Hierarchy: Organizes classes in a parent-child relationship.\n",
    "\n",
    "Extensibility: Allows extension of functionalities.\n",
    "\n",
    "Polymorphism: Enables treating different classes as instances of the same class.\n",
    "\n",
    "Encapsulation: Encapsulates common behavior in a parent class."
   ]
  },
  {
   "cell_type": "markdown",
   "id": "e3d74590-80e5-4008-adc5-c997376875de",
   "metadata": {},
   "source": [
    "# 4. MRO (Method Resolution Order)\n",
    "MRO defines the order in which Python searches for methods in a hierarchy."
   ]
  },
  {
   "cell_type": "markdown",
   "id": "d7981f54-3151-410f-a2b2-d70c357abfc3",
   "metadata": {},
   "source": [
    "# 5. Types of Inheritance"
   ]
  },
  {
   "cell_type": "code",
   "execution_count": null,
   "id": "b2602648-ac0b-45e9-a02d-1492d7cddc4d",
   "metadata": {},
   "outputs": [],
   "source": [
    "# (i) Single Inheritance\n",
    "class Parent:\n",
    "    def func1(self):\n",
    "        print(\"This function is in parent class.\")\n",
    "\n",
    "class Child(Parent):\n",
    "    def func2(self):\n",
    "        print(\"This function is in child class.\")\n",
    "\n",
    "obj = Child()\n",
    "obj.func1()\n",
    "obj.func2()\n"
   ]
  },
  {
   "cell_type": "code",
   "execution_count": null,
   "id": "08691428-9764-4490-bdf5-4b7029fc19d1",
   "metadata": {},
   "outputs": [],
   "source": [
    "# (ii) Multiple Inheritance\n",
    "class Mother:\n",
    "    def mother(self):\n",
    "        print(\"Mother\")\n",
    "\n",
    "class Father:\n",
    "    def father(self):\n",
    "        print(\"Father\")\n",
    "\n",
    "class Son(Mother, Father):\n",
    "    def parents(self):\n",
    "        print(\"Father and Mother\")\n",
    "\n",
    "s1 = Son()\n",
    "s1.parents()"
   ]
  },
  {
   "cell_type": "code",
   "execution_count": null,
   "id": "f94e1145-40d7-4c87-b56f-07edbfa7acae",
   "metadata": {},
   "outputs": [],
   "source": [
    "# (iii) Multilevel Inheritance\n",
    "class Grandfather:\n",
    "    def __init__(self, grandfathername):\n",
    "        self.grandfathername = grandfathername\n",
    "\n",
    "class Father(Grandfather):\n",
    "    def __init__(self, fathername, grandfathername):\n",
    "        super().__init__(grandfathername)\n",
    "        self.fathername = fathername\n",
    "\n",
    "class Son(Father):\n",
    "    def __init__(self, sonname, fathername, grandfathername):\n",
    "        super().__init__(fathername, grandfathername)\n",
    "        self.sonname = sonname\n",
    "    def print_name(self):\n",
    "        print(f\"Grandfather: {self.grandfathername}, Father: {self.fathername}, Son: {self.sonname}\")\n",
    "\n",
    "s1 = Son('Prince', 'Rampal', 'Lal mani')\n",
    "s1.print_name()\n",
    "\n"
   ]
  },
  {
   "cell_type": "code",
   "execution_count": null,
   "id": "a5e6856f-3f34-4387-afcd-e1b8b4bde2d8",
   "metadata": {},
   "outputs": [],
   "source": [
    "# (iv) Hierarchical Inheritance\n",
    "class Parent:\n",
    "    def func1(self):\n",
    "        print(\"Parent class function\")\n",
    "\n",
    "class Child1(Parent):\n",
    "    def func2(self):\n",
    "        print(\"Child 1 class function\")\n",
    "\n",
    "class Child2(Parent):\n",
    "    def func3(self):\n",
    "        print(\"Child 2 class function\")\n",
    "\n",
    "obj1 = Child1()\n",
    "obj2 = Child2()\n",
    "obj1.func1()\n",
    "obj1.func2()\n",
    "obj2.func1()\n",
    "obj2.func3()\n"
   ]
  },
  {
   "cell_type": "code",
   "execution_count": null,
   "id": "0f05ef61-fd68-4d78-8dcd-e27d657ff4fc",
   "metadata": {},
   "outputs": [],
   "source": [
    "# (v) Hybrid Inheritance\n",
    "class School:\n",
    "    def func1(self):\n",
    "        print(\"School function\")\n",
    "\n",
    "class Student1(School):\n",
    "    def func2(self):\n",
    "        print(\"Student 1 function\")\n",
    "\n",
    "class Student2(School):\n",
    "    def func3(self):\n",
    "        print(\"Student 2 function\")\n",
    "\n",
    "class Student3(Student1):\n",
    "    def func4(self):\n",
    "        print(\"Student 3 function\")\n",
    "\n",
    "obj = Student3()\n",
    "obj.func1()\n",
    "obj.func2()\n"
   ]
  },
  {
   "cell_type": "markdown",
   "id": "b69c0742-4fb2-4840-968c-848fc161b737",
   "metadata": {},
   "source": [
    "# 6. Method Overriding\n"
   ]
  },
  {
   "cell_type": "code",
   "execution_count": null,
   "id": "d116cc12-f916-47dc-8d24-65136e0f28cc",
   "metadata": {},
   "outputs": [],
   "source": [
    "class Shape:\n",
    "    def area(self):\n",
    "        raise NotImplementedError(\"Subclasses must implement area()\")\n",
    "\n",
    "class Square(Shape):\n",
    "    def __init__(self, side):\n",
    "        self.side = side\n",
    "    def area(self):\n",
    "        return self.side * self.side\n",
    "\n",
    "class Circle(Shape):\n",
    "    def __init__(self, radius):\n",
    "        self.radius = radius\n",
    "    def area(self):\n",
    "        return 3.14 * self.radius * self.radius\n",
    "\n",
    "square = Square(5)\n",
    "circle = Circle(3)\n",
    "print(f\"Square area: {square.area()}\")  \n",
    "print(f\"Circle area: {circle.area()}\")\n",
    "\n"
   ]
  },
  {
   "cell_type": "markdown",
   "id": "2d9df4c5-446b-4e29-86ef-9e7e02720488",
   "metadata": {},
   "source": [
    "# Super() with __init__ Method\n"
   ]
  },
  {
   "cell_type": "code",
   "execution_count": null,
   "id": "4fc66c4f-6113-4e6a-aca5-4d4a54f23926",
   "metadata": {},
   "outputs": [],
   "source": [
    "class Emp:\n",
    "    def __init__(self, id, name, Add):\n",
    "        self.id = id\n",
    "        self.name = name\n",
    "        self.Add = Add\n",
    "\n",
    "class Freelance(Emp):\n",
    "    def __init__(self, id, name, Add, Emails):\n",
    "        super().__init__(id, name, Add)\n",
    "        self.Emails = Emails\n",
    "\n",
    "Emp_1 = Freelance(103, \"Suraj kr gupta\", \"Noida\", \"SKG@gmails\")\n",
    "print(f'ID: {Emp_1.id}, Name: {Emp_1.name}, Address: {Emp_1.Add}, Emails: {Emp_1.Emails}')\n"
   ]
  },
  {
   "cell_type": "markdown",
   "id": "7d6185c0-c3ba-42e7-923b-7011732d490e",
   "metadata": {},
   "source": [
    "# Super() with __str__ Method\n"
   ]
  },
  {
   "cell_type": "code",
   "execution_count": null,
   "id": "22d32d3c-1232-47ba-a462-a8496c67d27b",
   "metadata": {},
   "outputs": [],
   "source": [
    "class Animal:\n",
    "    def __init__(self, species):\n",
    "        self.species = species\n",
    "    def __str__(self):\n",
    "        return f\"I am a {self.species}\"\n",
    "\n",
    "class Dog(Animal):\n",
    "    def __init__(self, breed):\n",
    "        super().__init__(\"dog\")\n",
    "        self.breed = breed\n",
    "    def __str__(self):\n",
    "        return super().__str__() + f\" of breed {self.breed}\"\n",
    "\n",
    "dog = Dog(\"Labrador\")\n",
    "print(dog)"
   ]
  }
 ],
 "metadata": {
  "kernelspec": {
   "display_name": "Python 3 (ipykernel)",
   "language": "python",
   "name": "python3"
  },
  "language_info": {
   "codemirror_mode": {
    "name": "ipython",
    "version": 3
   },
   "file_extension": ".py",
   "mimetype": "text/x-python",
   "name": "python",
   "nbconvert_exporter": "python",
   "pygments_lexer": "ipython3",
   "version": "3.11.7"
  }
 },
 "nbformat": 4,
 "nbformat_minor": 5
}
