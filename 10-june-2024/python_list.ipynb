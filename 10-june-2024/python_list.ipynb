{
 "cells": [
  {
   "cell_type": "markdown",
   "id": "b6280c66-7c31-48ab-b6ca-bed92a86a6ac",
   "metadata": {},
   "source": [
    "## Lists"
   ]
  },
  {
   "cell_type": "code",
   "execution_count": 107,
   "id": "8c4880d7-3ffa-4031-bce5-47a55bebeca4",
   "metadata": {},
   "outputs": [],
   "source": [
    "# Basic List Operations\n",
    "names = [\"Alice\", \"Bob\", \"Charlie\"]"
   ]
  },
  {
   "cell_type": "markdown",
   "id": "6bc5bd4c-4be8-45f3-b159-9877e831e49b",
   "metadata": {},
   "source": [
    "# Append"
   ]
  },
  {
   "cell_type": "code",
   "execution_count": 108,
   "id": "801f8557-2812-48a2-a903-6a0cc8861580",
   "metadata": {},
   "outputs": [
    {
     "name": "stdout",
     "output_type": "stream",
     "text": [
      "Append: ['Alice', 'Bob', 'Charlie', 'David']\n"
     ]
    }
   ],
   "source": [
    "names.append(\"David\")\n",
    "print(f\"Append: {names}\")\n"
   ]
  },
  {
   "cell_type": "markdown",
   "id": "50404f6f-b0ac-4c17-802b-cd340655e8ee",
   "metadata": {},
   "source": [
    "# Insert\n"
   ]
  },
  {
   "cell_type": "code",
   "execution_count": 109,
   "id": "06a5961f-2791-43f2-8449-125d5ad48901",
   "metadata": {},
   "outputs": [
    {
     "name": "stdout",
     "output_type": "stream",
     "text": [
      "Insert: ['Alice', 'Eve', 'Bob', 'Charlie', 'David']\n"
     ]
    }
   ],
   "source": [
    "names.insert(1, \"Eve\")\n",
    "print(f\"Insert: {names}\")\n"
   ]
  },
  {
   "cell_type": "markdown",
   "id": "fc288c0d-d59d-42ab-aa02-abcc18c68f9a",
   "metadata": {},
   "source": [
    "# Remove"
   ]
  },
  {
   "cell_type": "code",
   "execution_count": 110,
   "id": "1e152d9b-7bc4-469a-be95-19487bf569bc",
   "metadata": {},
   "outputs": [
    {
     "name": "stdout",
     "output_type": "stream",
     "text": [
      "Remove: ['Alice', 'Eve', 'Charlie', 'David']\n"
     ]
    }
   ],
   "source": [
    "names.remove(\"Bob\")\n",
    "print(f\"Remove: {names}\")"
   ]
  },
  {
   "cell_type": "markdown",
   "id": "7aaaccec-78d7-4974-a2bf-9565d5fe55c5",
   "metadata": {},
   "source": [
    "# Copy\n"
   ]
  },
  {
   "cell_type": "markdown",
   "id": "83399d81-0d72-4ae9-80a1-e2758b365baf",
   "metadata": {},
   "source": [
    "## Shallow Copy"
   ]
  },
  {
   "cell_type": "code",
   "execution_count": 111,
   "id": "5a3854c2-105c-4dc4-9974-c7edf352f571",
   "metadata": {},
   "outputs": [
    {
     "name": "stdout",
     "output_type": "stream",
     "text": [
      "Shallow Copy: ['Frank', 'Eve', 'Charlie', 'David'], Original: ['Alice', 'Eve', 'Charlie', 'David']\n"
     ]
    }
   ],
   "source": [
    "names_shallow_copy = names.copy()\n",
    "names_shallow_copy[0] = \"Frank\"\n",
    "print(f\"Shallow Copy: {names_shallow_copy}, Original: {names}\")"
   ]
  },
  {
   "cell_type": "markdown",
   "id": "95b5a560-9fa0-4d73-a582-7426d6015b22",
   "metadata": {},
   "source": [
    "# Deep Copy\n"
   ]
  },
  {
   "cell_type": "code",
   "execution_count": 112,
   "id": "ed304938-bd5a-4967-9d6a-34487ad17ffe",
   "metadata": {},
   "outputs": [
    {
     "name": "stdout",
     "output_type": "stream",
     "text": [
      "Deep Copy: ['Grace', 'Eve', 'Charlie', 'David'], Original: ['Alice', 'Eve', 'Charlie', 'David']\n"
     ]
    }
   ],
   "source": [
    "import copy\n",
    "names_deep_copy = copy.deepcopy(names)\n",
    "names_deep_copy[0] = \"Grace\"\n",
    "print(f\"Deep Copy: {names_deep_copy}, Original: {names}\")"
   ]
  },
  {
   "cell_type": "markdown",
   "id": "da7e6cff-5ebf-4fef-bf29-c61e4ec7e937",
   "metadata": {},
   "source": [
    "# Count\n"
   ]
  },
  {
   "cell_type": "code",
   "execution_count": 113,
   "id": "0a62dad3-26a8-4652-8351-fa6523cd7713",
   "metadata": {},
   "outputs": [
    {
     "name": "stdout",
     "output_type": "stream",
     "text": [
      "Count of 'Alice': 2\n"
     ]
    }
   ],
   "source": [
    "names.append(\"Alice\")\n",
    "alice_count = names.count(\"Alice\")\n",
    "print(f\"Count of 'Alice': {alice_count}\")"
   ]
  },
  {
   "cell_type": "markdown",
   "id": "8157d591-4cca-4956-b82b-562f60782172",
   "metadata": {},
   "source": [
    "# Extend\n"
   ]
  },
  {
   "cell_type": "code",
   "execution_count": 114,
   "id": "6efc4c13-015e-48f5-9551-a4cceb9fcd86",
   "metadata": {},
   "outputs": [
    {
     "name": "stdout",
     "output_type": "stream",
     "text": [
      "Extend: ['Alice', 'Eve', 'Charlie', 'David', 'Alice', 'Hannah', 'Ivan']\n"
     ]
    }
   ],
   "source": [
    "more_names = [\"Hannah\", \"Ivan\"]\n",
    "names.extend(more_names)\n",
    "print(f\"Extend: {names}\")"
   ]
  },
  {
   "cell_type": "markdown",
   "id": "ec2d0c26-82c7-4d14-8686-2656e631324d",
   "metadata": {},
   "source": [
    "# Index\n"
   ]
  },
  {
   "cell_type": "code",
   "execution_count": 115,
   "id": "7fcecb42-3337-4786-8c71-93b6e3648cc6",
   "metadata": {},
   "outputs": [
    {
     "name": "stdout",
     "output_type": "stream",
     "text": [
      "Index of 'Alice': 0\n"
     ]
    }
   ],
   "source": [
    "alice_index = names.index(\"Alice\")\n",
    "print(f\"Index of 'Alice': {alice_index}\")"
   ]
  },
  {
   "cell_type": "markdown",
   "id": "8681f104-be69-40b7-9b3a-7c303d76ded8",
   "metadata": {},
   "source": [
    "# Sort\n"
   ]
  },
  {
   "cell_type": "code",
   "execution_count": 116,
   "id": "2d791545-b897-4ec0-9d81-32ab55f06618",
   "metadata": {},
   "outputs": [
    {
     "name": "stdout",
     "output_type": "stream",
     "text": [
      "Sort: ['Alice', 'Alice', 'Charlie', 'David', 'Eve', 'Hannah', 'Ivan']\n"
     ]
    }
   ],
   "source": [
    "names.sort()\n",
    "print(f\"Sort: {names}\")"
   ]
  },
  {
   "cell_type": "markdown",
   "id": "0d297aab-fc80-4b16-b1bd-55380913f890",
   "metadata": {},
   "source": [
    "# Reverse\n"
   ]
  },
  {
   "cell_type": "code",
   "execution_count": 117,
   "id": "58f2e40f-37f1-4290-8144-aa5eaab6ad62",
   "metadata": {},
   "outputs": [
    {
     "name": "stdout",
     "output_type": "stream",
     "text": [
      "Reverse: ['Ivan', 'Hannah', 'Eve', 'David', 'Charlie', 'Alice', 'Alice']\n"
     ]
    }
   ],
   "source": [
    "names.reverse()\n",
    "print(f\"Reverse: {names}\")"
   ]
  },
  {
   "cell_type": "markdown",
   "id": "03fe23dd-7ea4-405e-b1a9-c8219fa50d40",
   "metadata": {},
   "source": [
    "# Clear\n"
   ]
  },
  {
   "cell_type": "code",
   "execution_count": 118,
   "id": "4023492a-8335-4f14-ab2d-15abc657d44c",
   "metadata": {},
   "outputs": [
    {
     "name": "stdout",
     "output_type": "stream",
     "text": [
      "Clear: []\n"
     ]
    }
   ],
   "source": [
    "names.clear()\n",
    "print(f\"Clear: {names}\")\n"
   ]
  },
  {
   "cell_type": "markdown",
   "id": "6d571db1-45c4-4190-8e5b-f06ed5e814d7",
   "metadata": {},
   "source": [
    "# Pop\n"
   ]
  },
  {
   "cell_type": "code",
   "execution_count": 119,
   "id": "72d05b38-dbc5-4b7b-b720-d6c77da276f6",
   "metadata": {},
   "outputs": [
    {
     "name": "stdout",
     "output_type": "stream",
     "text": [
      "Pop: Ivan, Remaining: ['Hannah']\n"
     ]
    }
   ],
   "source": [
    "\n",
    "removed_name = more_names.pop()\n",
    "print(f\"Pop: {removed_name}, Remaining: {more_names}\")"
   ]
  },
  {
   "cell_type": "markdown",
   "id": "d1fa2904-4d6d-4070-991a-05dfcca3658c",
   "metadata": {},
   "source": [
    "# List Comprehension\n"
   ]
  },
  {
   "cell_type": "markdown",
   "id": "047e54c6-5b11-4e50-b998-25e3ff553fb7",
   "metadata": {},
   "source": [
    "## Create a list of name lengths\n"
   ]
  },
  {
   "cell_type": "code",
   "execution_count": 120,
   "id": "49f2e989-fc8f-4c54-9539-8fcb4cdfb536",
   "metadata": {},
   "outputs": [
    {
     "name": "stdout",
     "output_type": "stream",
     "text": [
      "Name lengths: [5, 3, 7, 5]\n"
     ]
    }
   ],
   "source": [
    "name_lengths = [len(name) for name in [\"Alice\", \"Bob\", \"Charlie\", \"David\"]]\n",
    "print(\"Name lengths:\", name_lengths)"
   ]
  },
  {
   "cell_type": "markdown",
   "id": "501ea88d-51b2-43c4-98c1-0d527c0c3257",
   "metadata": {},
   "source": [
    "# Create a list of names in uppercase\n"
   ]
  },
  {
   "cell_type": "code",
   "execution_count": 121,
   "id": "674406ad-d9af-4ecf-9ec3-f00a7272d4bd",
   "metadata": {},
   "outputs": [
    {
     "name": "stdout",
     "output_type": "stream",
     "text": [
      "Uppercase names: ['ALICE', 'BOB', 'CHARLIE', 'DAVID']\n"
     ]
    }
   ],
   "source": [
    "uppercase_names = [name.upper() for name in [\"Alice\", \"Bob\", \"Charlie\", \"David\"]]\n",
    "print(\"Uppercase names:\", uppercase_names)"
   ]
  },
  {
   "cell_type": "markdown",
   "id": "5081d34a-4351-40b6-aff9-7ed9648ef70e",
   "metadata": {},
   "source": [
    "# Create a list of tuples with names and their lengths\n"
   ]
  },
  {
   "cell_type": "code",
   "execution_count": 122,
   "id": "bfc52858-4d3c-4e42-b512-7e2187046bb1",
   "metadata": {},
   "outputs": [
    {
     "name": "stdout",
     "output_type": "stream",
     "text": [
      "Name-Length pairs: [('Alice', 5), ('Bob', 3), ('Charlie', 7), ('David', 5)]\n"
     ]
    }
   ],
   "source": [
    "name_length_pairs = [(name, len(name)) for name in [\"Alice\", \"Bob\", \"Charlie\", \"David\"]]\n",
    "print(\"Name-Length pairs:\", name_length_pairs)"
   ]
  },
  {
   "cell_type": "markdown",
   "id": "d058668d-4144-479e-8726-1b87cdbf4249",
   "metadata": {},
   "source": [
    "# Flatten a nested list of names\n"
   ]
  },
  {
   "cell_type": "code",
   "execution_count": 123,
   "id": "6e8a36c2-e8ac-429c-825f-eac4aedc32fb",
   "metadata": {},
   "outputs": [
    {
     "name": "stdout",
     "output_type": "stream",
     "text": [
      "Flattened names: ['Alice', 'Bob', 'Charlie', 'David', 'Eve', 'Frank']\n"
     ]
    }
   ],
   "source": [
    "nested_names = [[\"Alice\", \"Bob\"], [\"Charlie\", \"David\"], [\"Eve\", \"Frank\"]]\n",
    "flattened_names = [name for sublist in nested_names for name in sublist]\n",
    "print(\"Flattened names:\", flattened_names)"
   ]
  },
  {
   "cell_type": "markdown",
   "id": "8a84a737-1998-4bf7-87b2-0872572bbecc",
   "metadata": {},
   "source": [
    "# Indexing\n"
   ]
  },
  {
   "cell_type": "code",
   "execution_count": 124,
   "id": "514c814d-1ece-4be0-9460-ebb417e024fd",
   "metadata": {},
   "outputs": [],
   "source": [
    "# Create a list of names\n",
    "names = [\"Alice\", \"Bob\", \"Charlie\", \"David\", \"Eve\"]\n"
   ]
  },
  {
   "cell_type": "markdown",
   "id": "8d64d771-4ead-4427-ac2a-2fb82560aa8c",
   "metadata": {},
   "source": [
    "# Accessing elements using positive indexing\n"
   ]
  },
  {
   "cell_type": "code",
   "execution_count": 125,
   "id": "192bccfd-90dc-412e-9668-8adbdbc2ce7a",
   "metadata": {},
   "outputs": [
    {
     "name": "stdout",
     "output_type": "stream",
     "text": [
      "First name: Alice\n",
      "Second name: Bob\n",
      "Last name: Eve\n"
     ]
    }
   ],
   "source": [
    "first_name = names[0]\n",
    "second_name = names[1]\n",
    "last_name = names[-1]\n",
    "print(\"First name:\", first_name)\n",
    "print(\"Second name:\", second_name)\n",
    "print(\"Last name:\", last_name)"
   ]
  },
  {
   "cell_type": "markdown",
   "id": "6c7e741e-7e3e-4269-83ac-ce1c5f585ed3",
   "metadata": {},
   "source": [
    "# Accessing elements using negative indexing\n"
   ]
  },
  {
   "cell_type": "code",
   "execution_count": 126,
   "id": "d76d132d-e86c-406f-b23f-f2d091c0acdc",
   "metadata": {},
   "outputs": [
    {
     "name": "stdout",
     "output_type": "stream",
     "text": [
      "Second last name: David\n",
      "Third last name: Charlie\n"
     ]
    }
   ],
   "source": [
    "second_last_name = names[-2]\n",
    "third_last_name = names[-3]\n",
    "print(\"Second last name:\", second_last_name)\n",
    "print(\"Third last name:\", third_last_name)"
   ]
  },
  {
   "cell_type": "markdown",
   "id": "78ef9c82-86c4-45aa-8d7e-06621b8c0309",
   "metadata": {},
   "source": [
    "# Get the value of an element at a specific index\n"
   ]
  },
  {
   "cell_type": "code",
   "execution_count": 127,
   "id": "826c2f49-0005-4caa-9acc-3c97d6e51573",
   "metadata": {},
   "outputs": [
    {
     "name": "stdout",
     "output_type": "stream",
     "text": [
      "Middle name: Charlie\n"
     ]
    }
   ],
   "source": [
    "middle_name = names[2]\n",
    "print(\"Middle name:\", middle_name)"
   ]
  },
  {
   "cell_type": "markdown",
   "id": "60742838-4321-4498-b385-1539007bf890",
   "metadata": {},
   "source": [
    "# Change the value of an element at a specific index\n"
   ]
  },
  {
   "cell_type": "code",
   "execution_count": 128,
   "id": "51f38be5-090b-4f88-a30d-36944f4e56e0",
   "metadata": {},
   "outputs": [
    {
     "name": "stdout",
     "output_type": "stream",
     "text": [
      "Updated names: ['Alice', 'Frank', 'Charlie', 'David', 'Eve']\n"
     ]
    }
   ],
   "source": [
    "names[1] = \"Frank\"\n",
    "print(\"Updated names:\", names)"
   ]
  },
  {
   "cell_type": "markdown",
   "id": "ee2481b5-d1f7-45fe-9c29-f465144e2771",
   "metadata": {},
   "source": [
    "# Slicing\n"
   ]
  },
  {
   "cell_type": "markdown",
   "id": "020514cb-b56d-43fa-8abc-e7f592e05a6e",
   "metadata": {},
   "source": [
    "# Slice from index 1 to 4\n"
   ]
  },
  {
   "cell_type": "code",
   "execution_count": 129,
   "id": "9314a987-a387-4b3e-a28e-e5d018ae46c0",
   "metadata": {},
   "outputs": [
    {
     "name": "stdout",
     "output_type": "stream",
     "text": [
      "Positive Slicing: ['Frank', 'Charlie', 'David']\n"
     ]
    }
   ],
   "source": [
    "subset1 = names[1:4]\n",
    "print(\"Positive Slicing:\", subset1)"
   ]
  },
  {
   "cell_type": "markdown",
   "id": "9affad3e-92ca-45e1-9eed-723a7cb78420",
   "metadata": {},
   "source": [
    "# Slice with a step\n"
   ]
  },
  {
   "cell_type": "code",
   "execution_count": 130,
   "id": "62ecb12c-51fb-4e6b-8c48-065f0cb2fa32",
   "metadata": {},
   "outputs": [
    {
     "name": "stdout",
     "output_type": "stream",
     "text": [
      "Positive Slicing with Step: ['Frank', 'David']\n"
     ]
    }
   ],
   "source": [
    "subset2 = names[1:6:2]\n",
    "print(\"Positive Slicing with Step:\", subset2)"
   ]
  },
  {
   "cell_type": "markdown",
   "id": "abfb0415-1615-4c1f-a1a6-ba55c1cfc492",
   "metadata": {},
   "source": [
    "# Slice the last three elements\n"
   ]
  },
  {
   "cell_type": "code",
   "execution_count": 131,
   "id": "569031e4-3b65-41cd-9bb9-dbe98ebfdfc0",
   "metadata": {},
   "outputs": [
    {
     "name": "stdout",
     "output_type": "stream",
     "text": [
      "Negative Slicing: ['Charlie', 'David', 'Eve']\n"
     ]
    }
   ],
   "source": [
    "subset3 = names[-3:]\n",
    "print(\"Negative Slicing:\", subset3)"
   ]
  },
  {
   "cell_type": "markdown",
   "id": "1dff5f9a-fbc2-4a21-9be2-d283f8b79533",
   "metadata": {},
   "source": [
    "# Slice from the second to last to the fourth to last\n"
   ]
  },
  {
   "cell_type": "code",
   "execution_count": 132,
   "id": "1e258f0d-4a08-4953-bd5c-4177b88e3a85",
   "metadata": {},
   "outputs": [
    {
     "name": "stdout",
     "output_type": "stream",
     "text": [
      "Negative Slicing with Reverse: ['David', 'Charlie', 'Frank']\n"
     ]
    }
   ],
   "source": [
    "subset4 = names[-2:-5:-1]\n",
    "print(\"Negative Slicing with Reverse:\", subset4)"
   ]
  },
  {
   "cell_type": "markdown",
   "id": "7f73efa3-572f-4133-9b46-c33f6c850011",
   "metadata": {},
   "source": [
    "# Extract a portion of the list\n"
   ]
  },
  {
   "cell_type": "code",
   "execution_count": 133,
   "id": "26d2a5a3-895e-42e4-aa9a-46ede48ab1d4",
   "metadata": {},
   "outputs": [
    {
     "name": "stdout",
     "output_type": "stream",
     "text": [
      "Retrieve a Portion: ['Charlie', 'David', 'Eve']\n"
     ]
    }
   ],
   "source": [
    "middle_subset = names[2:5]\n",
    "print(\"Retrieve a Portion:\", middle_subset)"
   ]
  },
  {
   "cell_type": "markdown",
   "id": "cc7cdae0-7c4e-4f7e-8409-5a0b573c2018",
   "metadata": {},
   "source": [
    "# Update elements within a slice\n"
   ]
  },
  {
   "cell_type": "code",
   "execution_count": 134,
   "id": "7d462a32-df09-411d-bb96-6e2d5d462262",
   "metadata": {},
   "outputs": [
    {
     "name": "stdout",
     "output_type": "stream",
     "text": [
      "Update a Slice: ['Alice', 'Grace', 'Hannah', 'David', 'Eve']\n"
     ]
    }
   ],
   "source": [
    "names[1:3] = [\"Grace\", \"Hannah\"]\n",
    "print(\"Update a Slice:\", names)"
   ]
  },
  {
   "cell_type": "markdown",
   "id": "63c9bfbf-8ea7-4afb-87a6-cfcbdccd3f64",
   "metadata": {},
   "source": [
    "# Remove elements within a slice\n"
   ]
  },
  {
   "cell_type": "code",
   "execution_count": 135,
   "id": "dfc4291e-e6df-4795-8212-0eeb856b7c86",
   "metadata": {},
   "outputs": [
    {
     "name": "stdout",
     "output_type": "stream",
     "text": [
      "Delete a Slice: ['Alice', 'Grace', 'Eve']\n"
     ]
    }
   ],
   "source": [
    "del names[2:4]\n",
    "print(\"Delete a Slice:\", names)\n"
   ]
  },
  {
   "cell_type": "markdown",
   "id": "c5da9f0e-616a-4580-9668-33a6ef9a4fb0",
   "metadata": {},
   "source": [
    "# Add elements into a specific position\n"
   ]
  },
  {
   "cell_type": "code",
   "execution_count": 136,
   "id": "5842cddb-1f06-4c40-8bb7-592cd4165f79",
   "metadata": {},
   "outputs": [
    {
     "name": "stdout",
     "output_type": "stream",
     "text": [
      "Insert into a Slice: ['Alice', 'Ivan', 'Jack', 'Grace', 'Eve']\n"
     ]
    }
   ],
   "source": [
    "names[1:1] = [\"Ivan\", \"Jack\"]\n",
    "print(\"Insert into a Slice:\", names)"
   ]
  },
  {
   "cell_type": "markdown",
   "id": "188b7122-cd78-4d34-9ab7-8cc7e6551a93",
   "metadata": {},
   "source": [
    "# Searching and Sorting\n"
   ]
  },
  {
   "cell_type": "code",
   "execution_count": 137,
   "id": "587b0367-b2a8-490e-8c5b-e30d3b6d9dd8",
   "metadata": {},
   "outputs": [],
   "source": [
    "# Create a list of names\n",
    "names = [\"Alice\", \"Bob\", \"Charlie\", \"David\", \"Eve\"]\n"
   ]
  },
  {
   "cell_type": "markdown",
   "id": "d19024b9-de38-4270-8726-e60257f5e7a6",
   "metadata": {},
   "source": [
    "# Check if \"Charlie\" is in the list of names\n"
   ]
  },
  {
   "cell_type": "code",
   "execution_count": 138,
   "id": "e5fb49e5-13ca-48f3-88eb-d211008a808b",
   "metadata": {},
   "outputs": [
    {
     "name": "stdout",
     "output_type": "stream",
     "text": [
      "Is 'Charlie' in the list? True\n"
     ]
    }
   ],
   "source": [
    "has_charlie = \"Charlie\" in names\n",
    "print(\"Is 'Charlie' in the list?\", has_charlie)\n"
   ]
  },
  {
   "cell_type": "markdown",
   "id": "0552194b-cabd-4386-91e7-035cf33892ea",
   "metadata": {},
   "source": [
    "# Find the index of \"David\" in the list\n"
   ]
  },
  {
   "cell_type": "code",
   "execution_count": 139,
   "id": "493c51b1-62b0-4438-b410-4bbbad9dd240",
   "metadata": {},
   "outputs": [
    {
     "name": "stdout",
     "output_type": "stream",
     "text": [
      "Index of 'David': 3\n"
     ]
    }
   ],
   "source": [
    "david_index = names.index(\"David\")\n",
    "print(\"Index of 'David':\", david_index)\n"
   ]
  },
  {
   "cell_type": "markdown",
   "id": "422fdb9f-8f59-4e07-8e02-68532d886c82",
   "metadata": {},
   "source": [
    "# Sort the list of names in ascending order\n"
   ]
  },
  {
   "cell_type": "code",
   "execution_count": 140,
   "id": "7397b1cc-bae5-4b61-a4c3-427e9dec7ae3",
   "metadata": {},
   "outputs": [
    {
     "name": "stdout",
     "output_type": "stream",
     "text": [
      "Names sorted in ascending order: ['Alice', 'Bob', 'Charlie', 'David', 'Eve']\n"
     ]
    }
   ],
   "source": [
    "names.sort()\n",
    "print(\"Names sorted in ascending order:\", names)"
   ]
  },
  {
   "cell_type": "markdown",
   "id": "d7f3662d-e671-4c14-b262-1d7f07eb641a",
   "metadata": {},
   "source": [
    "\n",
    "# Sort the list of names in descending order\n"
   ]
  },
  {
   "cell_type": "code",
   "execution_count": 141,
   "id": "62a08538-47f9-4d29-9ee8-190c97b5cd39",
   "metadata": {},
   "outputs": [
    {
     "name": "stdout",
     "output_type": "stream",
     "text": [
      "Names sorted in descending order: ['Eve', 'David', 'Charlie', 'Bob', 'Alice']\n"
     ]
    }
   ],
   "source": [
    "names.sort(reverse=True)\n",
    "print(\"Names sorted in descending order:\", names)"
   ]
  },
  {
   "cell_type": "markdown",
   "id": "cce0810a-2df9-4226-a190-8bc209cec94e",
   "metadata": {},
   "source": [
    "# Special Methods\n"
   ]
  },
  {
   "cell_type": "code",
   "execution_count": 142,
   "id": "6ba35710-cd5a-44e3-a585-81a2d4d589f0",
   "metadata": {},
   "outputs": [],
   "source": [
    "from functools import reduce\n"
   ]
  },
  {
   "cell_type": "markdown",
   "id": "6b253de4-f669-4418-b625-700a087f0c4e",
   "metadata": {},
   "source": [
    "# Calculate the sum of a list of lengths of names using `reduce`\n"
   ]
  },
  {
   "cell_type": "code",
   "execution_count": 143,
   "id": "83fa8b23-22a8-428d-951e-68b87185fbd8",
   "metadata": {},
   "outputs": [
    {
     "name": "stdout",
     "output_type": "stream",
     "text": [
      "Total length of names using reduce: 20\n"
     ]
    }
   ],
   "source": [
    "name_lengths = [len(name) for name in [\"Alice\", \"Bob\", \"Charlie\", \"David\"]]\n",
    "total_length = reduce(lambda x, y: x + y, name_lengths)\n",
    "print(\"Total length of names using reduce:\", total_length)"
   ]
  },
  {
   "cell_type": "markdown",
   "id": "15e28940-b221-46dc-9211-84f1c2a6698f",
   "metadata": {},
   "source": [
    "# Create a list of name initials using `map`\n"
   ]
  },
  {
   "cell_type": "code",
   "execution_count": 144,
   "id": "2d2b3005-674b-4482-abba-ba2ec2aebeb0",
   "metadata": {},
   "outputs": [
    {
     "name": "stdout",
     "output_type": "stream",
     "text": [
      "Name initials using map: ['A', 'B', 'C', 'D']\n"
     ]
    }
   ],
   "source": [
    "name_initials = list(map(lambda name: name[0], [\"Alice\", \"Bob\", \"Charlie\", \"David\"]))\n",
    "print(\"Name initials using map:\", name_initials)"
   ]
  },
  {
   "cell_type": "markdown",
   "id": "40c8c3d4-190c-43ae-a2ac-30103a06ca75",
   "metadata": {},
   "source": [
    "# Filter names with more than 3 letters\n"
   ]
  },
  {
   "cell_type": "code",
   "execution_count": 145,
   "id": "6ce592c6-8978-44fe-a2f1-ea9cfbe0d87f",
   "metadata": {},
   "outputs": [
    {
     "name": "stdout",
     "output_type": "stream",
     "text": [
      "Names with more than 3 letters using filter: ['Alice', 'Charlie', 'David']\n"
     ]
    }
   ],
   "source": [
    "long_names = list(filter(lambda name: len(name) > 3, [\"Alice\", \"Bob\", \"Charlie\", \"David\"]))\n",
    "print(\"Names with more than 3 letters using filter:\", long_names)"
   ]
  },
  {
   "cell_type": "markdown",
   "id": "ee36c934-8b7c-4cda-aa3b-3118f0d5f637",
   "metadata": {},
   "source": [
    "# Zip two lists to create pairs of names and ages\n"
   ]
  },
  {
   "cell_type": "code",
   "execution_count": 146,
   "id": "00bbe1a3-ee74-430f-aa5a-29524ebb9d9f",
   "metadata": {},
   "outputs": [
    {
     "name": "stdout",
     "output_type": "stream",
     "text": [
      "Zipped names and ages: [('Alice', 25), ('Bob', 30), ('Charlie', 35), ('David', 40)]\n"
     ]
    }
   ],
   "source": [
    "ages = [25, 30, 35, 40]\n",
    "name_age_pairs = list(zip([\"Alice\", \"Bob\", \"Charlie\", \"David\"], ages))\n",
    "print(\"Zipped names and ages:\", name_age_pairs)\n",
    "\n"
   ]
  }
 ],
 "metadata": {
  "kernelspec": {
   "display_name": "Python 3 (ipykernel)",
   "language": "python",
   "name": "python3"
  },
  "language_info": {
   "codemirror_mode": {
    "name": "ipython",
    "version": 3
   },
   "file_extension": ".py",
   "mimetype": "text/x-python",
   "name": "python",
   "nbconvert_exporter": "python",
   "pygments_lexer": "ipython3",
   "version": "3.11.7"
  }
 },
 "nbformat": 4,
 "nbformat_minor": 5
}
