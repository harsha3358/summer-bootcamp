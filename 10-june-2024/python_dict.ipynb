{
 "cells": [
  {
   "cell_type": "markdown",
   "id": "4143a0a1-83c7-4d05-b3ff-608dc438d7bb",
   "metadata": {},
   "source": [
    "# Dictionaries"
   ]
  },
  {
   "cell_type": "markdown",
   "id": "55348d7b-af01-4695-8328-397443e86277",
   "metadata": {},
   "source": [
    "# Merge Two Dictionaries\n",
    "We have two dictionaries of people with their ages, and we want to merge them,\n",
    "with the second dictionary's values overwriting the first's in case of duplicate keys."
   ]
  },
  {
   "cell_type": "code",
   "execution_count": null,
   "id": "c89578ab-8168-4acd-8b71-be5fd41ed10c",
   "metadata": {},
   "outputs": [],
   "source": [
    "def merge_dicts(dict1, dict2):\n",
    "    merged = dict1.copy()\n",
    "    merged.update(dict2)\n",
    "    return merged\n",
    "\n",
    "dict1 = {'Harsha': 25, 'Prathmesh': 30}\n",
    "dict2 = {'Prathmesh': 35, 'Shojit': 28, 'Yash': 22}\n",
    "\n",
    "merged_dict = merge_dicts(dict1, dict2)\n",
    "print(merged_dict)  # Output: {'Harsha': 25, 'Prathmesh': 35, 'Shojit': 28, 'Yash': 22}\n"
   ]
  },
  {
   "cell_type": "markdown",
   "id": "314dc34b-5482-4f6a-b852-e195d8d08fbe",
   "metadata": {},
   "source": [
    "# Invert a Dictionary\n",
    "We have a dictionary of names with their ages and want to invert it so that \n",
    "the ages become keys and names become values."
   ]
  },
  {
   "cell_type": "code",
   "execution_count": null,
   "id": "89bb53e9-32d2-49f0-a04c-af2f652299a9",
   "metadata": {},
   "outputs": [],
   "source": [
    "def invert_dict(dictionary):\n",
    "    inverted = {value: key for key, value in dictionary.items()}\n",
    "    return inverted\n",
    "\n",
    "original_dict = {'Harsha': 25, 'Prathmesh': 30, 'Shojit': 28}\n",
    "inverted_dict = invert_dict(original_dict)\n",
    "print(inverted_dict)  # Output: {25: 'Harsha', 30: 'Prathmesh', 28: 'Shojit'}\n"
   ]
  },
  {
   "cell_type": "markdown",
   "id": "215ef542-7644-4719-ae68-ba35879e7e57",
   "metadata": {},
   "source": [
    "# Sort a Dictionary by Value"
   ]
  },
  {
   "cell_type": "code",
   "execution_count": null,
   "id": "0f976232-00a4-4501-a3c4-7a87b89fe3c2",
   "metadata": {},
   "outputs": [],
   "source": [
    "def sort_dict_by_value(dictionary):\n",
    "    sorted_dict = dict(sorted(dictionary.items(), key=lambda x: x[1]))\n",
    "    return sorted_dict\n",
    "\n",
    "unsorted_dict = {'Yash': 22, 'Sai': 24, 'Shivam': 26}\n",
    "sorted_dict = sort_dict_by_value(unsorted_dict)\n",
    "print(sorted_dict)  # Output: {'Yash': 22, 'Sai': 24, 'Shivam': 26}\n"
   ]
  },
  {
   "cell_type": "markdown",
   "id": "0eabdd84-3aec-475e-a17d-4f75acbc7ea7",
   "metadata": {},
   "source": [
    "# Remove Duplicate Values from a Dictionary\n"
   ]
  },
  {
   "cell_type": "code",
   "execution_count": null,
   "id": "6f71f713-bb3f-4cda-96d5-c3fdb5902b8a",
   "metadata": {},
   "outputs": [],
   "source": [
    "def remove_duplicate_values(dictionary):\n",
    "    unique_values = {}\n",
    "    for key, value in dictionary.items():\n",
    "        if value not in unique_values.values():\n",
    "            unique_values[key] = value\n",
    "    return unique_values\n",
    "\n",
    "original_dict = {'Harsha': 25, 'Prathmesh': 30, 'Shojit': 25, 'Yash': 30, 'Shivam': 28}\n",
    "unique_dict = remove_duplicate_values(original_dict)\n",
    "print(unique_dict)  # Output: {'Harsha': 25, 'Prathmesh': 30, 'Shivam': 28}\n"
   ]
  },
  {
   "cell_type": "markdown",
   "id": "5bd0cd21-eb83-4513-9cf0-52f401061f0a",
   "metadata": {},
   "source": [
    "# Group Data by Key\n"
   ]
  },
  {
   "cell_type": "code",
   "execution_count": null,
   "id": "b8ba9714-2135-4e64-8810-209d74f2d499",
   "metadata": {},
   "outputs": [],
   "source": [
    "def group_by_key(data, key):\n",
    "    grouped = {}\n",
    "    for item in data:\n",
    "        value = item[key]\n",
    "        if value in grouped:\n",
    "            grouped[value].append(item)\n",
    "        else:\n",
    "            grouped[value] = [item]\n",
    "    return grouped\n",
    "\n",
    "data = [\n",
    "    {'name': 'Harsha', 'age': 25, 'city': 'Hyderabad'},\n",
    "    {'name': 'Prathmesh', 'age': 30, 'city': 'Mumbai'},\n",
    "    {'name': 'Shojit', 'age': 28, 'city': 'Kolkata'},\n",
    "    {'name': 'Yash', 'age': 22, 'city': 'Hyderabad'},\n",
    "    {'name': 'Shivam', 'age': 26, 'city': 'Delhi'},\n",
    "    {'name': 'Sai', 'age': 24, 'city': 'Mumbai'},\n",
    "    {'name': 'Venu', 'age': 29, 'city': 'Chennai'}\n",
    "]\n",
    "\n",
    "grouped_by_city = group_by_key(data, 'city')\n",
    "print(grouped_by_city)\n"
   ]
  }
 ],
 "metadata": {
  "kernelspec": {
   "display_name": "Python 3 (ipykernel)",
   "language": "python",
   "name": "python3"
  },
  "language_info": {
   "codemirror_mode": {
    "name": "ipython",
    "version": 3
   },
   "file_extension": ".py",
   "mimetype": "text/x-python",
   "name": "python",
   "nbconvert_exporter": "python",
   "pygments_lexer": "ipython3",
   "version": "3.11.7"
  }
 },
 "nbformat": 4,
 "nbformat_minor": 5
}
