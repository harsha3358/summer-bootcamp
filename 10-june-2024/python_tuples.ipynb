{
 "cells": [
  {
   "cell_type": "markdown",
   "id": "7838a1e9-018e-48be-a113-1af25d1c7900",
   "metadata": {},
   "source": [
    "# Tuple creation\n"
   ]
  },
  {
   "cell_type": "code",
   "execution_count": 3,
   "id": "13c561c4-d9da-4b82-9238-23f711b62dfb",
   "metadata": {},
   "outputs": [
    {
     "name": "stdout",
     "output_type": "stream",
     "text": [
      "('apple', 'banana', 'cherry')\n"
     ]
    }
   ],
   "source": [
    "y = (\"apple\", \"banana\", \"cherry\")\n",
    "print(y)"
   ]
  },
  {
   "cell_type": "markdown",
   "id": "36859e78-2e49-4446-8bfc-25eaa6b2defd",
   "metadata": {},
   "source": [
    "# Allow duplicates\n"
   ]
  },
  {
   "cell_type": "code",
   "execution_count": 4,
   "id": "a351806d-472a-43a6-b2c5-05ba74e09151",
   "metadata": {},
   "outputs": [
    {
     "name": "stdout",
     "output_type": "stream",
     "text": [
      "('apple', 'banana', 'cherry', 'apple', 'cherry')\n"
     ]
    }
   ],
   "source": [
    "x = (\"apple\", \"banana\", \"cherry\", \"apple\", \"cherry\")\n",
    "print(x)"
   ]
  },
  {
   "cell_type": "markdown",
   "id": "33c96201-233e-49bf-beec-be3dd1627d96",
   "metadata": {},
   "source": [
    "# Tuple length\n"
   ]
  },
  {
   "cell_type": "code",
   "execution_count": 5,
   "id": "ae51d874-11ec-4c1f-95d4-6f25705e9c0e",
   "metadata": {},
   "outputs": [
    {
     "name": "stdout",
     "output_type": "stream",
     "text": [
      "3\n"
     ]
    }
   ],
   "source": [
    "thistuple = (\"apple\", \"banana\", \"cherry\")\n",
    "print(len(thistuple))"
   ]
  },
  {
   "cell_type": "markdown",
   "id": "9a0d27b1-778a-45b5-bab6-62200abe1053",
   "metadata": {},
   "source": [
    "# Different datatypes\n"
   ]
  },
  {
   "cell_type": "code",
   "execution_count": 6,
   "id": "9a490e0e-37f7-4f22-9595-8e74a2ee021e",
   "metadata": {},
   "outputs": [
    {
     "name": "stdout",
     "output_type": "stream",
     "text": [
      "('abc', 34, True, 40, 'male')\n"
     ]
    }
   ],
   "source": [
    "tuple1 = (\"abc\", 34, True, 40, \"male\")\n",
    "print(tuple1)\n"
   ]
  },
  {
   "cell_type": "markdown",
   "id": "ae1c46fb-92e0-4134-8cdd-ae0e0640c488",
   "metadata": {},
   "source": [
    "# Using tuple() constructor\n"
   ]
  },
  {
   "cell_type": "code",
   "execution_count": 7,
   "id": "9f93efcd-c2b9-4dd2-a8f1-3bfd428c66f7",
   "metadata": {},
   "outputs": [
    {
     "name": "stdout",
     "output_type": "stream",
     "text": [
      "('apple', 'banana', 'cherry')\n"
     ]
    }
   ],
   "source": [
    "q = tuple((\"apple\", \"banana\", \"cherry\"))\n",
    "print(q)"
   ]
  },
  {
   "cell_type": "markdown",
   "id": "4d0305b9-a9c9-4ba7-b264-bbc71942e12a",
   "metadata": {},
   "source": [
    "# Accessing elements\n"
   ]
  },
  {
   "cell_type": "code",
   "execution_count": 8,
   "id": "e40b3cab-9c9f-43fb-a51d-d2b84fe5bb3a",
   "metadata": {},
   "outputs": [
    {
     "name": "stdout",
     "output_type": "stream",
     "text": [
      "banana\n"
     ]
    }
   ],
   "source": [
    "w = (\"apple\", \"banana\", \"cherry\")\n",
    "print(w[1])"
   ]
  },
  {
   "cell_type": "markdown",
   "id": "efd6d04a-04be-4862-8dc9-7eba9821db6e",
   "metadata": {},
   "source": [
    "# Slicing\n"
   ]
  },
  {
   "cell_type": "code",
   "execution_count": 9,
   "id": "c6d7389a-1a4f-40ee-8ccf-76654ab83d91",
   "metadata": {},
   "outputs": [
    {
     "name": "stdout",
     "output_type": "stream",
     "text": [
      "('cherry', 'orange', 'kiwi')\n",
      "('apple', 'banana', 'cherry', 'orange')\n",
      "('orange', 'kiwi', 'melon')\n"
     ]
    }
   ],
   "source": [
    "e = (\"apple\", \"banana\", \"cherry\", \"orange\", \"kiwi\", \"melon\", \"mango\")\n",
    "print(e[2:5])\n",
    "print(e[:4])\n",
    "print(e[-4:-1])"
   ]
  },
  {
   "cell_type": "markdown",
   "id": "ce78a161-9dd3-4124-b04e-35875dd1f727",
   "metadata": {},
   "source": [
    "# Convert tuple to list and back\n"
   ]
  },
  {
   "cell_type": "code",
   "execution_count": 10,
   "id": "77f142da-46bc-43b7-97e1-7d2fc3a08db0",
   "metadata": {},
   "outputs": [
    {
     "name": "stdout",
     "output_type": "stream",
     "text": [
      "('apple', 'banana', 'cherry', 'orange')\n"
     ]
    }
   ],
   "source": [
    "thistuple = (\"apple\", \"banana\", \"cherry\")\n",
    "y = list(thistuple)\n",
    "y.append(\"orange\")\n",
    "thistuple = tuple(y)\n",
    "print(thistuple)"
   ]
  },
  {
   "cell_type": "markdown",
   "id": "d34ca615-9bee-4ae0-b3c5-b739f681498e",
   "metadata": {},
   "source": [
    "# Delete tuple\n"
   ]
  },
  {
   "cell_type": "code",
   "execution_count": 11,
   "id": "716cacc3-25c5-4219-8094-e4cfaa3b24c1",
   "metadata": {},
   "outputs": [],
   "source": [
    "thistuple = (\"apple\", \"banana\", \"cherry\")\n",
    "del thistuple"
   ]
  },
  {
   "cell_type": "markdown",
   "id": "019a0db0-1817-43ae-9999-64abc5f8b2d8",
   "metadata": {},
   "source": [
    "# Using asterisk\n"
   ]
  },
  {
   "cell_type": "code",
   "execution_count": 12,
   "id": "432f5abc-c509-4d0e-99db-f757f7fb0aa7",
   "metadata": {},
   "outputs": [
    {
     "name": "stdout",
     "output_type": "stream",
     "text": [
      "apple ['mango', 'papaya', 'pineapple'] cherry\n"
     ]
    }
   ],
   "source": [
    "fruits = (\"apple\", \"mango\", \"papaya\", \"pineapple\", \"cherry\")\n",
    "(green, *tropic, red) = fruits\n",
    "print(green, tropic, red)"
   ]
  },
  {
   "cell_type": "markdown",
   "id": "f82a9302-20b1-4bcf-b240-3616b7436987",
   "metadata": {},
   "source": [
    "# Loop through tuple\n"
   ]
  },
  {
   "cell_type": "code",
   "execution_count": 13,
   "id": "bd73a32e-c5aa-46e8-a4d0-8aa9af239e18",
   "metadata": {},
   "outputs": [
    {
     "name": "stdout",
     "output_type": "stream",
     "text": [
      "apple\n",
      "banana\n",
      "cherry\n"
     ]
    }
   ],
   "source": [
    "i = (\"apple\", \"banana\", \"cherry\")\n",
    "for x in i:\n",
    "    print(x)"
   ]
  },
  {
   "cell_type": "markdown",
   "id": "7213ef43-0967-40fe-a415-1f499bdde73f",
   "metadata": {},
   "source": [
    "# Tuple with repeated elements\n"
   ]
  },
  {
   "cell_type": "code",
   "execution_count": 14,
   "id": "81362038-db9b-4754-a4cf-f27d4a272284",
   "metadata": {},
   "outputs": [
    {
     "name": "stdout",
     "output_type": "stream",
     "text": [
      "(0, 1, 2, 0, 1, 2, 0, 1, 2)\n"
     ]
    }
   ],
   "source": [
    "repeated_tuple = tuple(range(3)) * 3\n",
    "print(repeated_tuple)"
   ]
  },
  {
   "cell_type": "markdown",
   "id": "9b0953ef-395a-4c88-ab28-77028466dc93",
   "metadata": {},
   "source": [
    "# While loop\n"
   ]
  },
  {
   "cell_type": "code",
   "execution_count": 15,
   "id": "61d8586d-6377-41f0-9575-39a913365bb9",
   "metadata": {},
   "outputs": [
    {
     "name": "stdout",
     "output_type": "stream",
     "text": [
      "apple\n",
      "banana\n",
      "cherry\n"
     ]
    }
   ],
   "source": [
    "tuple2 = (\"apple\", \"banana\", \"cherry\")\n",
    "i = 0\n",
    "while i < len(tuple2):\n",
    "    print(tuple2[i])\n",
    "    i += 1\n"
   ]
  },
  {
   "cell_type": "markdown",
   "id": "8ca4c91b-3a34-4e94-935e-ee88969342d1",
   "metadata": {},
   "source": [
    "# Join tuples\n"
   ]
  },
  {
   "cell_type": "code",
   "execution_count": 16,
   "id": "3afd6242-cc9e-4ca6-adf2-b7ee1260b6ce",
   "metadata": {},
   "outputs": [
    {
     "name": "stdout",
     "output_type": "stream",
     "text": [
      "Joined tuple: (1, 2, 3, 4, 5, 6)\n"
     ]
    }
   ],
   "source": [
    "tuple1 = (1, 2, 3)\n",
    "tuple2 = (4, 5, 6)\n",
    "joined_tuple = tuple1 + tuple2\n",
    "print(\"Joined tuple:\", joined_tuple)"
   ]
  },
  {
   "cell_type": "markdown",
   "id": "fa49dfc4-ffa8-4489-85d4-65327238926f",
   "metadata": {},
   "source": [
    "# Multiply tuple\n"
   ]
  },
  {
   "cell_type": "code",
   "execution_count": 17,
   "id": "7532a5c2-7907-4134-967c-0b27c33b0703",
   "metadata": {},
   "outputs": [
    {
     "name": "stdout",
     "output_type": "stream",
     "text": [
      "('apple', 'banana', 'cherry', 'apple', 'banana', 'cherry')\n"
     ]
    }
   ],
   "source": [
    "fruits = (\"apple\", \"banana\", \"cherry\")\n",
    "mytuple = fruits * 2\n",
    "print(mytuple)"
   ]
  },
  {
   "cell_type": "markdown",
   "id": "def5ec4d-dd2a-4e82-8cd4-de7bee167fc3",
   "metadata": {},
   "source": [
    "# Count and index methods\n"
   ]
  },
  {
   "cell_type": "code",
   "execution_count": 18,
   "id": "0474462b-43b5-4066-ac75-12e9f9831bec",
   "metadata": {},
   "outputs": [
    {
     "name": "stdout",
     "output_type": "stream",
     "text": [
      "Count of 3: 3\n",
      "Count of python: 2\n",
      "1\n",
      "Element 'mango' not found in the tuple\n"
     ]
    }
   ],
   "source": [
    "Tuple1 = (0, 1, 2, 3, 2, 3, 1, 3, 2)\n",
    "print('Count of 3:', Tuple1.count(3))\n",
    "Tuple2 = ('python', 'geek', 'python')\n",
    "print('Count of python:', Tuple2.count('python'))\n",
    "\n",
    "fruits_tuple = (\"apple\", \"banana\", \"cherry\", \"banana\")\n",
    "print(fruits_tuple.index(\"banana\"))\n",
    "try:\n",
    "    fruits_tuple.index(\"mango\")\n",
    "except ValueError:\n",
    "    print(\"Element 'mango' not found in the tuple\")\n"
   ]
  },
  {
   "cell_type": "markdown",
   "id": "6e086d88-f93a-496b-9cf8-8435b2cfdfb9",
   "metadata": {},
   "source": [
    "# Built-in functions\n"
   ]
  },
  {
   "cell_type": "code",
   "execution_count": 19,
   "id": "82a91ff3-cf59-473b-a61f-bd94ff4763c3",
   "metadata": {},
   "outputs": [
    {
     "name": "stdout",
     "output_type": "stream",
     "text": [
      "Length of list: 5\n",
      "Length of tuple: 3\n",
      "Sum of numbers_list: 15\n",
      "Sum of numbers_tuple: 60\n",
      "Largest number in list: 8\n",
      "Largest number in tuple: 30\n",
      "Smallest number in list: 1\n",
      "Smallest number in tuple: 10\n",
      "Sorted list: [1, 2, 3, 5, 8]\n",
      "Sorted tuple: [4, 5, 10, 20, 30]\n"
     ]
    }
   ],
   "source": [
    "numbers_list = [1, 2, 3, 4, 5]\n",
    "numbers_tuple = (6, 7, 8)\n",
    "print(\"Length of list:\", len(numbers_list))\n",
    "print(\"Length of tuple:\", len(numbers_tuple))\n",
    "\n",
    "numbers_list = [1, 2, 3, 4, 5]\n",
    "print(\"Sum of numbers_list:\", sum(numbers_list))\n",
    "numbers_tuple = (10, 20, 30)\n",
    "print(\"Sum of numbers_tuple:\", sum(numbers_tuple))\n",
    "\n",
    "numbers_list = [1, 5, 2, 8, 3]\n",
    "print(\"Largest number in list:\", max(numbers_list))\n",
    "numbers_tuple = (10, 20, 30)\n",
    "print(\"Largest number in tuple:\", max(numbers_tuple))\n",
    "\n",
    "numbers_list = [1, 5, 2, 8, 3]\n",
    "print(\"Smallest number in list:\", min(numbers_list))\n",
    "numbers_tuple = (10, 20, 30)\n",
    "print(\"Smallest number in tuple:\", min(numbers_tuple))\n",
    "\n",
    "numbers_list = [1, 5, 2, 8, 3]\n",
    "print(\"Sorted list:\", sorted(numbers_list))\n",
    "numbers_tuple = (10, 20, 30, 4, 5)\n",
    "print(\"Sorted tuple:\", sorted(numbers_tuple))\n"
   ]
  },
  {
   "cell_type": "markdown",
   "id": "b3971daa-db7e-4034-8f75-f3fc3bf9e048",
   "metadata": {},
   "source": [
    "# Hands-on exercises\n"
   ]
  },
  {
   "cell_type": "code",
   "execution_count": 20,
   "id": "423fef6c-0332-4d3b-9334-242213847818",
   "metadata": {},
   "outputs": [
    {
     "name": "stdout",
     "output_type": "stream",
     "text": [
      "apple cherry\n",
      "[2, 3, 4] [3, 4, 5]\n",
      "[6, 7, 8]\n",
      "['d', 'c', 'b', 'a']\n",
      "Count of 'o': 4\n",
      "Count of 2: 3\n"
     ]
    }
   ],
   "source": [
    "fruits = [\"apple\", \"banana\", \"cherry\"]\n",
    "print(fruits[0], fruits[-1])\n",
    "\n",
    "numbers = [1, 2, 3, 4, 5]\n",
    "print(numbers[1:4], numbers[2:])\n",
    "\n",
    "original_list = [6, 7, 8]\n",
    "copy_list = original_list[:]\n",
    "print(copy_list)\n",
    "\n",
    "letters = ['a', 'b', 'c', 'd']\n",
    "print(letters[::-1])\n",
    "\n",
    "message = \"Hello, world! How is your day?\"\n",
    "print(\"Count of 'o':\", message.count('o'))\n",
    "\n",
    "numbers = [1, 2, 2, 3, 1, 4, 2]\n",
    "print(\"Count of 2:\", numbers.count(2))"
   ]
  },
  {
   "cell_type": "code",
   "execution_count": 21,
   "id": "77d75bda-00b8-4450-86b5-ce72ae5e6c90",
   "metadata": {},
   "outputs": [
    {
     "name": "stdout",
     "output_type": "stream",
     "text": [
      "Length of list: 5\n",
      "Length of tuple: 4\n"
     ]
    }
   ],
   "source": [
    "numbers_list = [1, 2, 3, 4, 5]\n",
    "numbers_tuple = (6, 7, 8, 9)\n",
    "print(\"Length of list:\", len(numbers_list))\n",
    "print(\"Length of tuple:\", len(numbers_tuple))"
   ]
  },
  {
   "cell_type": "code",
   "execution_count": 22,
   "id": "061abb4f-d8b0-4010-9b4a-dbf43adbc9a9",
   "metadata": {},
   "outputs": [
    {
     "name": "stdout",
     "output_type": "stream",
     "text": [
      "Smallest fruit in list: apple\n",
      "Smallest fruit in tuple: grape\n"
     ]
    }
   ],
   "source": [
    "\n",
    "fruits_list = [\"apple\", \"banana\", \"cherry\"]\n",
    "fruits_tuple = (\"mango\", \"kiwi\", \"grape\")\n",
    "print(\"Smallest fruit in list:\", min(fruits_list))\n",
    "print(\"Smallest fruit in tuple:\", min(fruits_tuple))"
   ]
  },
  {
   "cell_type": "code",
   "execution_count": 23,
   "id": "cb27a336-1700-4b6d-8790-e23b528baa3e",
   "metadata": {},
   "outputs": [
    {
     "name": "stdout",
     "output_type": "stream",
     "text": [
      "Largest number in list: 8\n",
      "Largest number in tuple: 9\n"
     ]
    }
   ],
   "source": [
    "numbers_list = [1, 5, 2, 8]\n",
    "numbers_tuple = (3, 7, 9, 0)\n",
    "print(\"Largest number in list:\", max(numbers_list))\n",
    "print(\"Largest number in tuple:\", max(numbers_tuple))"
   ]
  },
  {
   "cell_type": "code",
   "execution_count": 24,
   "id": "81a99b3e-1e52-4278-bf9a-6811260292f2",
   "metadata": {},
   "outputs": [
    {
     "name": "stdout",
     "output_type": "stream",
     "text": [
      "Cannot sort list with mixed data types\n",
      "Sum of list elements: 24\n",
      "Sum of tuple elements: 18\n"
     ]
    }
   ],
   "source": [
    "mixed_list = [3, 9.5, True, \"apple\"]\n",
    "try:\n",
    "    mixed_list.sort()\n",
    "    print(\"Sorted list:\", mixed_list)\n",
    "except TypeError:\n",
    "    print(\"Cannot sort list with mixed data types\")\n",
    "\n",
    "numbers_list = [4, 7, 2, 11]\n",
    "numbers_tuple = (6, 3, 8, 1)\n",
    "print(\"Sum of list elements:\", sum(numbers_list))\n",
    "print(\"Sum of tuple elements:\", sum(numbers_tuple))"
   ]
  }
 ],
 "metadata": {
  "kernelspec": {
   "display_name": "Python 3 (ipykernel)",
   "language": "python",
   "name": "python3"
  },
  "language_info": {
   "codemirror_mode": {
    "name": "ipython",
    "version": 3
   },
   "file_extension": ".py",
   "mimetype": "text/x-python",
   "name": "python",
   "nbconvert_exporter": "python",
   "pygments_lexer": "ipython3",
   "version": "3.11.7"
  }
 },
 "nbformat": 4,
 "nbformat_minor": 5
}
