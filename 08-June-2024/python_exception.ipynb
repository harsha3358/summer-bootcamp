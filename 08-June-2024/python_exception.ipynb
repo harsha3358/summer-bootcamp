{
 "cells": [
  {
   "cell_type": "markdown",
   "id": "a213e60e-a343-4224-9107-7795d2a769a3",
   "metadata": {},
   "source": [
    "# Definition of Exceptions and Basics of Exception Handling\n"
   ]
  },
  {
   "cell_type": "code",
   "execution_count": 1,
   "id": "71d44e2e-3a1e-47a2-8a66-f4159a8ff533",
   "metadata": {},
   "outputs": [],
   "source": [
    "def concatenate_strings(a, b):\n",
    "    try:\n",
    "        result = a + b\n",
    "    except TypeError as e:\n",
    "        print(f\"Error: {e}. Both inputs must be strings!\")\n",
    "        return None\n",
    "    except Exception as e:\n",
    "        print(f\"Unexpected error: {e}\")\n",
    "        return None\n",
    "    else:\n",
    "        print(f\"The result is '{result}'\")\n",
    "        return result\n",
    "    finally:\n",
    "        print(\"Execution of concatenate_strings function is complete.\")"
   ]
  },
  {
   "cell_type": "markdown",
   "id": "0cab55ee-a7df-43c0-9bc1-994dd2d9dda0",
   "metadata": {},
   "source": [
    "# Raising Exceptions and Exception Hierarchy\n"
   ]
  },
  {
   "cell_type": "code",
   "execution_count": 2,
   "id": "008d27e6-455c-4531-b62a-f213fcef2abb",
   "metadata": {},
   "outputs": [],
   "source": [
    "class ValueTooShortError(Exception):\n",
    "    pass\n",
    "\n",
    "def validate_string_length(s):\n",
    "    if len(s) < 5:\n",
    "        raise ValueTooShortError(\"String length error: The string must be at least 5 characters long!\")\n",
    "    else:\n",
    "        print(f\"String '{s}' is of valid length.\")\n"
   ]
  },
  {
   "cell_type": "markdown",
   "id": "766d2834-ee28-439b-8667-bda6c74b3042",
   "metadata": {},
   "source": [
    "# Testing concatenate_strings function\n"
   ]
  },
  {
   "cell_type": "code",
   "execution_count": 3,
   "id": "13969bff-99f9-496a-9a75-6e7585a5026a",
   "metadata": {},
   "outputs": [
    {
     "name": "stdout",
     "output_type": "stream",
     "text": [
      "Testing concatenate_strings function:\n",
      "The result is 'Hello, World!'\n",
      "Execution of concatenate_strings function is complete.\n",
      "Error: can only concatenate str (not \"int\") to str. Both inputs must be strings!\n",
      "Execution of concatenate_strings function is complete.\n",
      "The result is 'Good Morning'\n",
      "Execution of concatenate_strings function is complete.\n",
      "\n",
      "Testing validate_string_length function:\n",
      "String 'Harsha' is of valid length.\n",
      "String 'Sahojit' is of valid length.\n",
      "Caught custom exception: String length error: The string must be at least 5 characters long!\n",
      "Caught custom exception: String length error: The string must be at least 5 characters long!\n",
      "String 'Shivam' is of valid length.\n"
     ]
    }
   ],
   "source": [
    "print(\"Testing concatenate_strings function:\")\n",
    "concatenate_strings(\"Hello, \", \"World!\")\n",
    "concatenate_strings(\"Hi, \", 123)\n",
    "concatenate_strings(\"Good\", \" Morning\")\n",
    "print(\"\\nTesting validate_string_length function:\")\n",
    "strings = [\"Harsha\", \"Sahojit\", \"Pra\", \"Yash\", \"Shivam\"]\n",
    "for s in strings:\n",
    "    try:\n",
    "        validate_string_length(s)\n",
    "    except ValueTooShortError as e:\n",
    "        print(f\"Caught custom exception: {e}\")\n"
   ]
  }
 ],
 "metadata": {
  "kernelspec": {
   "display_name": "Python 3 (ipykernel)",
   "language": "python",
   "name": "python3"
  },
  "language_info": {
   "codemirror_mode": {
    "name": "ipython",
    "version": 3
   },
   "file_extension": ".py",
   "mimetype": "text/x-python",
   "name": "python",
   "nbconvert_exporter": "python",
   "pygments_lexer": "ipython3",
   "version": "3.11.7"
  }
 },
 "nbformat": 4,
 "nbformat_minor": 5
}
